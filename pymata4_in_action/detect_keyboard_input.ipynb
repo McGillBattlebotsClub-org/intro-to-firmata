{
 "cells": [
  {
   "cell_type": "markdown",
   "metadata": {},
   "source": [
    "# Template script for detecting keyboard input and sending commands to robot"
   ]
  },
  {
   "cell_type": "code",
   "execution_count": 4,
   "metadata": {},
   "outputs": [],
   "source": [
    "# Import packages\n",
    "import sys\n",
    "import time\n",
    "\n",
    "from pymata4 import pymata4\n",
    "import keyboard  # using module keyboard\n",
    "import time\n",
    "import re #regex library"
   ]
  },
  {
   "cell_type": "markdown",
   "metadata": {},
   "source": [
    "# Get the command scheme the user wants to use to control the robot.\n",
    "This is used in order to control multiple robots from the same host computer. The keyboard can be shared in order to send commands to multiple robots that do not share command schemes.\n",
    "\n",
    "- The example command scheme is quite simple, with only four keys mapped to left, right, up, and down movement\n",
    "- It can be easily extended by adjusting the getCommandScheme function"
   ]
  },
  {
   "cell_type": "code",
   "execution_count": null,
   "metadata": {
    "scrolled": true,
    "tags": []
   },
   "outputs": [],
   "source": [
    "# which control scheme to use for this robot\n",
    "def getCommandScheme():\n",
    "    validInput = False\n",
    "    while validInput == False:\n",
    "            userInput = input(\"Command scheme (0=wasd, 1 = tfgh): \")\n",
    "\n",
    "            try:\n",
    "                # ignore all occurences of key presses that could be caused by\n",
    "                # a command scheme being used.\n",
    "                # This is a hardcoded list at the moment. It can be changed as needed\n",
    "                userInput = userInput.replace(\"w\", \"\")\n",
    "                userInput = userInput.replace(\"a\", \"\")\n",
    "                userInput = userInput.replace(\"s\", \"\")\n",
    "                userInput = userInput.replace(\"d\", \"\")\n",
    "                userInput = userInput.replace(\"t\", \"\")\n",
    "                userInput = userInput.replace(\"f\", \"\")\n",
    "                userInput = userInput.replace(\"g\", \"\")\n",
    "                userInput = userInput.replace(\"h\", \"\")\n",
    "\n",
    "                # convert parsed input to integer\n",
    "                userInput = int(userInput)\n",
    "                validInput = True\n",
    "\n",
    "                #insure that the user input is a valid index in the list\n",
    "                if userInput < 0 or userInput > 1:\n",
    "                    validInput = False\n",
    "                    print(\"Input out of bounds. Choose a scheme between 0 and 1\")\n",
    "            except:\n",
    "                print(\"input must be a number\")\n",
    "                validInput = False\n",
    "\n",
    "\n",
    "    if userInput == 0:\n",
    "        return ('w', 'a', 's', 'd')\n",
    "    else:\n",
    "        return ('t', 'f', 'g', 'h')"
   ]
  },
  {
   "cell_type": "markdown",
   "metadata": {},
   "source": [
    "# The keyboard input loop is where the python script stays while we control the robot\n",
    "It calls getCommandScheme(), and then enters an infinite loop. It checks key presses at every loop iteration, and runs code accordingly"
   ]
  },
  {
   "cell_type": "code",
   "execution_count": null,
   "metadata": {},
   "outputs": [],
   "source": [
    "def keyboardInputLoop():\n",
    "    flagUp = False\n",
    "    flagLeft = False\n",
    "    flagDown = False\n",
    "    flagRight = False\n",
    "    \n",
    "    (up, left, down, right) = getCommandScheme()\n",
    "    \n",
    "    last = -1\n",
    "    \n",
    "    # get user controls and send to robot\n",
    "    modulo = 3\n",
    "    counter = 0\n",
    "    while True:\n",
    "        if counter == 0:\n",
    "            try:  # used try so that if user pressed other than the given key error will not be shown\n",
    "                flagUp = keyboard.is_pressed(up)\n",
    "                flagLeft = keyboard.is_pressed(left)\n",
    "                flagDown = keyboard.is_pressed(down)\n",
    "                flagRight = keyboard.is_pressed(right)\n",
    "                if keyboard.is_pressed('q'):\n",
    "                    return\n",
    "                time.sleep(0.01)\n",
    "            except:\n",
    "                if last != 0:\n",
    "                    print(\"idle\")\n",
    "                    # Your code here\n",
    "                    last = 0\n",
    "        counter = (counter+1)% modulo\n",
    "        dY = 0\n",
    "        dX = 0\n",
    "        if not (flagUp and flagDown):\n",
    "            if flagUp:\n",
    "                dY = 1\n",
    "            if flagDown:\n",
    "                dY = -1\n",
    "        if not (flagLeft and flagRight):\n",
    "            if flagRight:\n",
    "                dX = 1\n",
    "            if flagLeft:\n",
    "                dX = -1\n",
    "\n",
    "        if dY == 0 and dX == 0:\n",
    "            if last != 0:\n",
    "                print(\"idle\")\n",
    "                # Your code here\n",
    "            last = 0\n",
    "        elif dX == 0:\n",
    "            if dY == 1:\n",
    "                if last != 1:\n",
    "                    print(\"up\")\n",
    "                    # Your code here\n",
    "                last = 1\n",
    "            if dY == -1:\n",
    "                if last != 2:\n",
    "                    print(\"down\")\n",
    "                    # Your code here\n",
    "                last = 2\n",
    "        elif dY == 0:\n",
    "            if dX == 1:\n",
    "                if last != 3:\n",
    "                    print(\"right\")\n",
    "                    # Your code here\n",
    "                last = 3\n",
    "            if dX == -1:\n",
    "                if last != 4:\n",
    "                    print(\"left\")\n",
    "                    # Your code here\n",
    "                last = 4"
   ]
  },
  {
   "cell_type": "markdown",
   "metadata": {},
   "source": [
    "# Call keyboardInputLoop to start the script"
   ]
  },
  {
   "cell_type": "code",
   "execution_count": null,
   "metadata": {},
   "outputs": [],
   "source": [
    "# Entry point of script\n",
    "try:\n",
    "    keyboardInputLoop()\n",
    "except KeyboardInterrupt:\n",
    "    board.shutdown()\n",
    "    sys.exit(0)"
   ]
  }
 ],
 "metadata": {
  "kernelspec": {
   "display_name": "Python 3",
   "language": "python",
   "name": "python3"
  },
  "language_info": {
   "codemirror_mode": {
    "name": "ipython",
    "version": 3
   },
   "file_extension": ".py",
   "mimetype": "text/x-python",
   "name": "python",
   "nbconvert_exporter": "python",
   "pygments_lexer": "ipython3",
   "version": "3.7.4"
  }
 },
 "nbformat": 4,
 "nbformat_minor": 4
}
