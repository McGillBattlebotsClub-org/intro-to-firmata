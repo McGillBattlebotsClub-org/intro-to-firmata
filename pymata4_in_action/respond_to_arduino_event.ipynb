{
 "cells": [
  {
   "cell_type": "code",
   "execution_count": 1,
   "metadata": {},
   "outputs": [],
   "source": [
    "# Import packages\n",
    "import sys\n",
    "import time\n",
    "\n",
    "from pymata4 import pymata4\n",
    "import keyboard  # using module keyboard\n",
    "import time\n",
    "import re #regex library\n",
    "\n",
    "from pymata4 import pymata4 #used to interact with arduino using Firmata protocol"
   ]
  },
  {
   "cell_type": "markdown",
   "metadata": {},
   "source": [
    "# Callback function triggered when a pushbutton is pressed\n",
    "- Will call the stop() function, which will turn off the motor"
   ]
  },
  {
   "cell_type": "code",
   "execution_count": 2,
   "metadata": {},
   "outputs": [],
   "source": [
    "def button_pressed(data):\n",
    "    # A callback function to stop the motor.\n",
    "    my_board.digital_write(LED_PIN, data[2])"
   ]
  },
  {
   "cell_type": "markdown",
   "metadata": {},
   "source": [
    "# Methods that send commands to the arduino"
   ]
  },
  {
   "cell_type": "code",
   "execution_count": 3,
   "metadata": {},
   "outputs": [
    {
     "name": "stdout",
     "output_type": "stream",
     "text": [
      "pymata4:  Version 1.11\n",
      "\n",
      "Copyright (c) 2020 Alan Yorinks All Rights Reserved.\n",
      "\n",
      "Opening COM4...\n",
      "\n",
      "Waiting 4 seconds(arduino_wait) for Arduino devices to reset...\n",
      "Arduino compatible device found and connected to COM4\n",
      "\n",
      "Retrieving Arduino Firmware ID...\n",
      "Arduino Firmware ID: 1.2 FirmataExpress_editableBaudRate.ino\n",
      "\n",
      "Retrieving analog map...\n",
      "Auto-discovery complete. Found 22 Digital Pins and 8 Analog Pins\n",
      "\n",
      "\n"
     ]
    }
   ],
   "source": [
    "def setup(arduino):\n",
    "    # set the pin mode \n",
    "\n",
    "    # LED\n",
    "    arduino.set_pin_mode_digital_output(LED_PIN)\n",
    "    arduino.digital_write(LED_PIN, 1)\n",
    "    \n",
    "    # register callback function\n",
    "    arduino.set_pin_mode_digital_input_pullup(INPUT_PIN, callback=button_pressed)\n",
    "    \n",
    "    #loop until user forces program termination\n",
    "    while True:\n",
    "        time.sleep(1)\n",
    "        \n",
    "\n",
    "# motor pinout\n",
    "M1_1 = 4            # motor 1 pin 1\n",
    "M1_2 = 5            # motor 1 pin 2\n",
    "M1_PWM = 6          # motor 1 PWM pin\n",
    "\n",
    "# input pin (connect to button)\n",
    "INPUT_PIN = 8\n",
    "\n",
    "# output LED pin \n",
    "LED_PIN = 13\n",
    "\n",
    "# Connect to Arduino board, specifying the COM port\n",
    "my_board = pymata4.Pymata4(\"COM4\")"
   ]
  },
  {
   "cell_type": "markdown",
   "metadata": {},
   "source": [
    "# Entry point into code"
   ]
  },
  {
   "cell_type": "code",
   "execution_count": null,
   "metadata": {
    "scrolled": true,
    "tags": []
   },
   "outputs": [],
   "source": [
    "try:\n",
    "    setup(my_board)\n",
    "except KeyboardInterrupt:\n",
    "    board.shutdown()\n",
    "    sys.exit(0)"
   ]
  }
 ],
 "metadata": {
  "kernelspec": {
   "display_name": "Python 3",
   "language": "python",
   "name": "python3"
  },
  "language_info": {
   "codemirror_mode": {
    "name": "ipython",
    "version": 3
   },
   "file_extension": ".py",
   "mimetype": "text/x-python",
   "name": "python",
   "nbconvert_exporter": "python",
   "pygments_lexer": "ipython3",
   "version": "3.7.4"
  }
 },
 "nbformat": 4,
 "nbformat_minor": 4
}
